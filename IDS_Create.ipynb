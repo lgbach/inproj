{
 "cells": [
  {
   "cell_type": "code",
   "execution_count": 10,
   "metadata": {},
   "outputs": [],
   "source": [
    "# import libraries\n",
    "import numpy as np # linear algebra\n",
    "import pandas as pd # data processing, CSV file I/O (e.g. pd.read_csv)\n",
    "import os, re, time, math, itertools\n",
    "from tqdm import tqdm\n",
    "import matplotlib.pyplot as plt\n",
    "import seaborn as sns\n",
    "import plotly.express as px\n",
    "import plotly.offline as pyo\n",
    "from sklearn.model_selection import train_test_split\n",
    "from sklearn.preprocessing import MinMaxScaler\n",
    "from sklearn.ensemble import RandomForestClassifier\n",
    "from sklearn.preprocessing import LabelEncoder\n",
    "from sklearn.neural_network import MLPClassifier\n",
    "from sklearn.preprocessing import StandardScaler\n",
    "import tensorflow as tf\n",
    "from tensorflow.keras.layers import LSTM \n",
    "from tensorflow.keras import backend  \n",
    "from tensorflow.keras.layers import Conv2D, Conv1D, MaxPooling2D, MaxPooling1D, Flatten, BatchNormalization, Dense, Input\n",
    "from tensorflow.keras.utils import to_categorical\n",
    "from tensorflow.keras.models import Sequential\n",
    "from tensorflow.keras.callbacks import CSVLogger, ModelCheckpoint"
   ]
  },
  {
   "cell_type": "code",
   "execution_count": 11,
   "metadata": {},
   "outputs": [
    {
     "name": "stdout",
     "output_type": "stream",
     "text": [
      "D:\\Coding\\Dataset\\pre-processed\\CICIDS_ALLATTACKS_BINARY.csv\n",
      "D:\\Coding\\Dataset\\pre-processed\\Full_atk_zscore_5_threshold_099.csv\n",
      "D:\\Coding\\Dataset\\pre-processed\\Full_atk_zscore_6_threshold_099.csv\n",
      "D:\\Coding\\Dataset\\pre-processed\\Full_atk_zscore_6_threshold_099.rar\n",
      "D:\\Coding\\Dataset\\pre-processed\\Full_atk_zscore_7_threshold_098.csv\n",
      "D:\\Coding\\Dataset\\pre-processed\\Full_atk_zscore_7_threshold_099.csv\n",
      "D:\\Coding\\Dataset\\pre-processed\\Full_atk_zscore_7_threshold_099.rar\n",
      "D:\\Coding\\Dataset\\pre-processed\\Full_atk_zscore_7_threshold_100.csv\n",
      "D:\\Coding\\Dataset\\pre-processed\\Full_atk_zscore_8_threshold_099.csv\n",
      "D:\\Coding\\Dataset\\pre-processed\\Full_atk_zscore_9_threshold_099.csv\n",
      "D:\\Coding\\Dataset\\pre-processed\\IDS_CNN.ipynb\n",
      "D:\\Coding\\Dataset\\pre-processed\\logs.csv\n",
      "D:\\Coding\\Dataset\\pre-processed\\.ipynb_checkpoints\\IDS_CNN-checkpoint.ipynb\n"
     ]
    }
   ],
   "source": [
    "for dirname, _, filenames in os.walk('D:\\\\Coding\\\\Dataset\\\\pre-processed'):\n",
    "    for filename in filenames:\n",
    "        print(os.path.join(dirname, filename))"
   ]
  },
  {
   "cell_type": "code",
   "execution_count": 12,
   "metadata": {},
   "outputs": [],
   "source": [
    "# Set up manual dataset\n",
    "network_data = pd.read_csv('D:\\\\Coding\\\\Dataset\\\\pre-processed\\\\Full_atk_zscore_7_threshold_099.csv')\n",
    "\n",
    "# Set up manual parameters for model\n",
    "\n",
    "data_samples_value = 10000\n",
    "random_value = 123"
   ]
  },
  {
   "cell_type": "code",
   "execution_count": 13,
   "metadata": {},
   "outputs": [
    {
     "name": "stdout",
     "output_type": "stream",
     "text": [
      "Total columns in our data: 71\n",
      "<class 'pandas.core.frame.DataFrame'>\n",
      "RangeIndex: 7214096 entries, 0 to 7214095\n",
      "Data columns (total 71 columns):\n",
      " #   Column             Dtype  \n",
      "---  ------             -----  \n",
      " 0   Dst Port           float64\n",
      " 1   Protocol           float64\n",
      " 2   Timestamp          float64\n",
      " 3   Flow Duration      float64\n",
      " 4   Tot Fwd Pkts       float64\n",
      " 5   Tot Bwd Pkts       float64\n",
      " 6   TotLen Fwd Pkts    float64\n",
      " 7   TotLen Bwd Pkts    float64\n",
      " 8   Fwd Pkt Len Max    float64\n",
      " 9   Fwd Pkt Len Min    float64\n",
      " 10  Fwd Pkt Len Mean   float64\n",
      " 11  Fwd Pkt Len Std    float64\n",
      " 12  Bwd Pkt Len Max    float64\n",
      " 13  Bwd Pkt Len Min    float64\n",
      " 14  Bwd Pkt Len Mean   float64\n",
      " 15  Bwd Pkt Len Std    float64\n",
      " 16  Flow Byts/s        float64\n",
      " 17  Flow Pkts/s        float64\n",
      " 18  Flow IAT Mean      float64\n",
      " 19  Flow IAT Std       float64\n",
      " 20  Flow IAT Max       float64\n",
      " 21  Flow IAT Min       float64\n",
      " 22  Fwd IAT Tot        float64\n",
      " 23  Fwd IAT Mean       float64\n",
      " 24  Fwd IAT Std        float64\n",
      " 25  Fwd IAT Max        float64\n",
      " 26  Fwd IAT Min        float64\n",
      " 27  Bwd IAT Tot        float64\n",
      " 28  Bwd IAT Mean       float64\n",
      " 29  Bwd IAT Std        float64\n",
      " 30  Bwd IAT Max        float64\n",
      " 31  Bwd IAT Min        float64\n",
      " 32  Fwd PSH Flags      float64\n",
      " 33  Fwd Header Len     float64\n",
      " 34  Bwd Header Len     float64\n",
      " 35  Fwd Pkts/s         float64\n",
      " 36  Bwd Pkts/s         float64\n",
      " 37  Pkt Len Min        float64\n",
      " 38  Pkt Len Max        float64\n",
      " 39  Pkt Len Mean       float64\n",
      " 40  Pkt Len Std        float64\n",
      " 41  Pkt Len Var        float64\n",
      " 42  FIN Flag Cnt       float64\n",
      " 43  SYN Flag Cnt       float64\n",
      " 44  RST Flag Cnt       float64\n",
      " 45  PSH Flag Cnt       float64\n",
      " 46  ACK Flag Cnt       float64\n",
      " 47  URG Flag Cnt       float64\n",
      " 48  ECE Flag Cnt       float64\n",
      " 49  Down/Up Ratio      float64\n",
      " 50  Pkt Size Avg       float64\n",
      " 51  Fwd Seg Size Avg   float64\n",
      " 52  Bwd Seg Size Avg   float64\n",
      " 53  Subflow Fwd Pkts   float64\n",
      " 54  Subflow Fwd Byts   float64\n",
      " 55  Subflow Bwd Pkts   float64\n",
      " 56  Subflow Bwd Byts   float64\n",
      " 57  Init Fwd Win Byts  float64\n",
      " 58  Init Bwd Win Byts  float64\n",
      " 59  Fwd Act Data Pkts  float64\n",
      " 60  Fwd Seg Size Min   float64\n",
      " 61  Active Mean        float64\n",
      " 62  Active Std         float64\n",
      " 63  Active Max         float64\n",
      " 64  Active Min         float64\n",
      " 65  Idle Mean          float64\n",
      " 66  Idle Std           float64\n",
      " 67  Idle Max           float64\n",
      " 68  Idle Min           float64\n",
      " 69  Label              object \n",
      " 70  Src Port           float64\n",
      "dtypes: float64(70), object(1)\n",
      "memory usage: 3.8+ GB\n"
     ]
    },
    {
     "data": {
      "text/plain": [
       "Label\n",
       "Benign                      4836398\n",
       "DDoS attacks-LOIC-HTTP       573347\n",
       "DoS attacks-Hulk             439126\n",
       "DDOS attack-HOIC             360833\n",
       "Bot                          285763\n",
       "FTP-BruteForce               193354\n",
       "SSH-Bruteforce               187589\n",
       "Infilteration                152874\n",
       "DoS attacks-SlowHTTPTest     139890\n",
       "DoS attacks-GoldenEye         39924\n",
       "DoS attacks-Slowloris          2724\n",
       "DDOS attack-LOIC-UDP           1730\n",
       "Brute Force -Web                350\n",
       "Brute Force -XSS                116\n",
       "SQL Injection                    78\n",
       "Name: count, dtype: int64"
      ]
     },
     "execution_count": 13,
     "metadata": {},
     "output_type": "execute_result"
    }
   ],
   "source": [
    "# check the columns in data\n",
    "network_data.columns\n",
    "\n",
    "# check the number of columns\n",
    "print('Total columns in our data: %s' % str(len(network_data.columns)))\n",
    "\n",
    "# check dataset info\n",
    "network_data.info()\n",
    "\n",
    "# check the number of values for labels\n",
    "network_data['Label'].value_counts()\n",
    "\n",
    "# check the number of values for labels\n",
    "network_data['Label'].value_counts() "
   ]
  },
  {
   "cell_type": "code",
   "execution_count": 14,
   "metadata": {},
   "outputs": [
    {
     "data": {
      "text/plain": [
       "Label\n",
       "0     4836398\n",
       "6      573347\n",
       "8      439126\n",
       "4      360833\n",
       "1      285763\n",
       "11     193354\n",
       "14     187589\n",
       "12     152874\n",
       "9      139890\n",
       "7       39924\n",
       "10       2724\n",
       "5        1730\n",
       "2         350\n",
       "3         116\n",
       "13         78\n",
       "Name: count, dtype: int64"
      ]
     },
     "execution_count": 14,
     "metadata": {},
     "output_type": "execute_result"
    }
   ],
   "source": [
    "cleaned_data = network_data \n",
    "\n",
    "# encode the column labels\n",
    "label_encoder = LabelEncoder()\n",
    "cleaned_data['Label']= label_encoder.fit_transform(cleaned_data['Label'])\n",
    "cleaned_data['Label'].unique()\n",
    "\n",
    "\n",
    "cleaned_data['Label'].value_counts()"
   ]
  },
  {
   "cell_type": "code",
   "execution_count": 15,
   "metadata": {},
   "outputs": [],
   "source": [
    "# make 3 seperate datasets for 3 feature labels\n",
    "data_Benign                 = cleaned_data[cleaned_data['Label'] == 0]\n",
    "data_Bot                    = cleaned_data[cleaned_data['Label'] == 1]\n",
    "data_BF_Web                 = cleaned_data[cleaned_data['Label'] == 2]\n",
    "data_BF_XSS                 = cleaned_data[cleaned_data['Label'] == 3]\n",
    "data_DDoS_HOIC              = cleaned_data[cleaned_data['Label'] == 4]\n",
    "data_DDOS_LOIC_UDP          = cleaned_data[cleaned_data['Label'] == 5]\n",
    "data_DDoS_LOIC_HTTP         = cleaned_data[cleaned_data['Label'] == 6]\n",
    "data_DoS_GoldenEye          = cleaned_data[cleaned_data['Label'] == 7]\n",
    "data_DoS_Hulk               = cleaned_data[cleaned_data['Label'] == 8]\n",
    "data_DoS_SlowHTTPTest       = cleaned_data[cleaned_data['Label'] == 9]\n",
    "data_DoS_Slowloris          = cleaned_data[cleaned_data['Label'] == 10]\n",
    "data_FTP_BruteForce         = cleaned_data[cleaned_data['Label'] == 11]\n",
    "data_Infilteration          = cleaned_data[cleaned_data['Label'] == 12]\n",
    "data_SQL_Injection          = cleaned_data[cleaned_data['Label'] == 13]\n",
    "data_SSH_Bruteforce         = cleaned_data[cleaned_data['Label'] == 14]\n",
    "\n",
    "\n",
    "# make Benign feature\n",
    "y_0 = np.zeros(data_Benign.shape[0])\n",
    "y_Benign = pd.DataFrame(y_0)\n",
    "\n",
    "# make Bot feature\n",
    "y_1 = np.ones(data_Bot.shape[0])\n",
    "y_Bot = pd.DataFrame(y_1)\n",
    "\n",
    "# make Brute Force -Web attacks feature\n",
    "y_2 = np.full(data_BF_Web.shape[0], 2)\n",
    "y_BF_Web = pd.DataFrame(y_2)\n",
    "\n",
    "# make Brute Force - XSS attacks feature\n",
    "y_3 = np.full(data_BF_XSS.shape[0], 3)\n",
    "y_BF_XSS = pd.DataFrame(y_3)\n",
    "\n",
    "# make DDOS attack-HOIC attacks feature\n",
    "y_4 = np.full(data_DDoS_HOIC.shape[0], 4)\n",
    "y_DDoS_HOIC = pd.DataFrame(y_4)\n",
    "\n",
    "# make DDoS attacks-LOIC-UDP attacks feature\n",
    "y_5 = np.full(data_DDOS_LOIC_UDP.shape[0], 5)\n",
    "y_DDOS_LOIC_UDP = pd.DataFrame(y_5)\n",
    "\n",
    "# make DDoS attacks-LOIC-HTTP attacks feature\n",
    "y_6 = np.full(data_DDoS_LOIC_HTTP.shape[0], 6)\n",
    "y_DDoS_LOIC_HTTP = pd.DataFrame(y_6)\n",
    "\n",
    "# make DoS attacks-GoldenEye attacks feature\n",
    "y_7 = np.full(data_DoS_GoldenEye.shape[0], 7)\n",
    "y_DoS_GoldenEye = pd.DataFrame(y_7)\n",
    "\n",
    "# make DoS attacks-Hulk attacks feature\n",
    "y_8 = np.full(data_DoS_Hulk.shape[0], 8)\n",
    "y_DoS_Hulk = pd.DataFrame(y_8)\n",
    "\n",
    "# make DoS attacks-SlowHTTPTest attacks feature\n",
    "y_9 = np.full(data_DoS_SlowHTTPTest.shape[0], 9)\n",
    "y_DoS_SlowHTTPTest = pd.DataFrame(y_9)\n",
    "\n",
    "# make DoS attacks-Slowloris attacks feature\n",
    "y_10 = np.full(data_DoS_Slowloris.shape[0], 10)\n",
    "y_DoS_Slowloris = pd.DataFrame(y_10)\n",
    "\n",
    "# make FTP-BruteForce attacks feature\n",
    "y_11 = np.full(data_FTP_BruteForce.shape[0], 11)\n",
    "y_FTP_BruteForce = pd.DataFrame(y_11)\n",
    "\n",
    "# make Infilteration attacks feature\n",
    "y_12 = np.full(data_Infilteration.shape[0], 12)\n",
    "y_Infilteration = pd.DataFrame(y_12)\n",
    "\n",
    "# make SQL Injection attacks feature\n",
    "y_13 = np.full(data_SQL_Injection.shape[0], 13)\n",
    "y_SQL_Injection = pd.DataFrame(y_13)\n",
    "\n",
    "# make SSH-Bruteforce attacks feature\n",
    "y_14 = np.full(data_SSH_Bruteforce.shape[0], 14)\n",
    "y_SSH_Bruteforce = pd.DataFrame(y_14)\n",
    "\n",
    "# merging the original dataframe\n",
    "X = pd.concat([data_Benign, data_Bot, data_BF_Web, data_BF_XSS, data_DDoS_HOIC, \n",
    "               data_DDOS_LOIC_UDP, data_DDoS_LOIC_HTTP, data_DoS_GoldenEye, data_DoS_Hulk, data_DoS_SlowHTTPTest, \n",
    "               data_DoS_Slowloris, data_FTP_BruteForce, data_Infilteration, data_SQL_Injection, data_SSH_Bruteforce], \n",
    "               sort=True)\n",
    "y = pd.concat([y_Benign, y_Bot, y_BF_Web, y_BF_XSS, y_DDoS_HOIC, y_DDOS_LOIC_UDP,\n",
    "               y_DDoS_LOIC_HTTP, y_DoS_GoldenEye, y_DoS_Hulk, y_DoS_SlowHTTPTest,\n",
    "               y_DoS_Slowloris, y_FTP_BruteForce, y_Infilteration, y_SQL_Injection,\n",
    "               y_SSH_Bruteforce], sort=True)\n"
   ]
  },
  {
   "cell_type": "code",
   "execution_count": 16,
   "metadata": {},
   "outputs": [
    {
     "name": "stdout",
     "output_type": "stream",
     "text": [
      "(7214096, 71)\n",
      "(7214096, 1)\n"
     ]
    }
   ],
   "source": [
    "print(X.shape)\n",
    "print(y.shape)"
   ]
  },
  {
   "cell_type": "code",
   "execution_count": 17,
   "metadata": {},
   "outputs": [],
   "source": [
    "# Create data samples for each label\n",
    "from sklearn.utils import resample\n",
    "\n",
    "data_resample_Benign = resample(data_Benign, n_samples = data_samples_value, \n",
    "                                random_state = random_value, replace = True)\n",
    "data_resample_Bot = resample(data_Bot, n_samples = data_samples_value, \n",
    "                             random_state = random_value, replace = True)\n",
    "data_resample_BF_Web = resample(data_BF_Web, n_samples = 350, \n",
    "                                random_state = random_value, replace = True)\n",
    "data_resample_BF_XSS = resample(data_BF_XSS, n_samples = 116, \n",
    "                                random_state = random_value, replace = True)\n",
    "data_resample_DDoS_HOIC = resample(data_DDoS_HOIC, n_samples = data_samples_value, \n",
    "                                   random_state = random_value, replace = True)\n",
    "data_resample_DDOS_LOIC_UDP = resample(data_DDOS_LOIC_UDP, n_samples = 1730, \n",
    "                                       random_state = random_value, replace = True)\n",
    "data_resample_DDoS_LOIC_HTTP = resample(data_DDoS_LOIC_HTTP, n_samples = data_samples_value, \n",
    "                                        random_state = random_value, replace = True)\n",
    "data_resample_DoS_GoldenEye = resample(data_DoS_GoldenEye, n_samples = data_samples_value, \n",
    "                                       random_state = random_value, replace = True)\n",
    "data_resample_DoS_Hulk = resample(data_DoS_Hulk, n_samples = data_samples_value, \n",
    "                                  random_state = random_value, replace = True)\n",
    "data_resample_DoS_SlowHTTPTest = resample(data_DoS_SlowHTTPTest, n_samples = data_samples_value, \n",
    "                                          random_state = random_value, replace = True)\n",
    "data_resample_DoS_Slowloris = resample(data_DoS_Slowloris, n_samples = 2724, \n",
    "                                       random_state = random_value, replace = True)\n",
    "data_resample_FTP_BruteForce = resample(data_FTP_BruteForce, n_samples = data_samples_value, \n",
    "                                        random_state = random_value, replace = True)\n",
    "data_resample_Infilteration = resample(data_Infilteration, n_samples = data_samples_value, \n",
    "                                       random_state = random_value, replace = True)\n",
    "data_resample_SQL_Injection = resample(data_SQL_Injection, n_samples = 78, \n",
    "                                       random_state = random_value, replace = True)\n",
    "data_resample_SSH_Bruteforce = resample(data_SSH_Bruteforce, n_samples = data_samples_value, \n",
    "                                        random_state = random_value, replace = True)\n",
    "\n",
    "\n",
    "# Concatenate samples\n",
    "train_dataset = pd.concat([data_resample_Benign, data_resample_Bot, data_resample_BF_Web, data_resample_BF_XSS, \n",
    "                           data_resample_DDoS_HOIC, data_resample_DDOS_LOIC_UDP, data_resample_DDoS_LOIC_HTTP, \n",
    "                           data_resample_DoS_GoldenEye, data_resample_DoS_Hulk, data_resample_DoS_SlowHTTPTest, \n",
    "                           data_resample_DoS_Slowloris, data_resample_FTP_BruteForce, data_resample_Infilteration, \n",
    "                           data_resample_SQL_Injection, data_resample_SSH_Bruteforce], \n",
    "                          ignore_index=True)"
   ]
  },
  {
   "cell_type": "code",
   "execution_count": 18,
   "metadata": {},
   "outputs": [
    {
     "data": {
      "text/plain": [
       "(array([ 0,  1,  2,  3,  4,  5,  6,  7,  8,  9, 10, 11, 12, 13, 14]),\n",
       " array([ 1,  0, 11, 14,  8, 10,  4,  9,  3,  7, 12,  6,  5, 13,  2]))"
      ]
     },
     "execution_count": 18,
     "metadata": {},
     "output_type": "execute_result"
    }
   ],
   "source": [
    "# Create test dataset with amount parameter\n",
    "\n",
    "test_samples_fraction_value = 0.1\n",
    "\n",
    "test_dataset = train_dataset.sample(frac = test_samples_fraction_value)\n",
    "target_train = train_dataset['Label']\n",
    "target_test = test_dataset['Label']\n",
    "target_train.unique(), target_test.unique()"
   ]
  },
  {
   "cell_type": "code",
   "execution_count": 19,
   "metadata": {},
   "outputs": [],
   "source": [
    "y_train = to_categorical(target_train, num_classes=15)  \n",
    "y_test = to_categorical(target_test, num_classes=15)"
   ]
  },
  {
   "cell_type": "code",
   "execution_count": 20,
   "metadata": {},
   "outputs": [],
   "source": [
    "train_dataset = train_dataset.drop(columns = [\"Timestamp\", \"Protocol\",\"PSH Flag Cnt\",\"Init Fwd Win Byts\",\"Flow Byts/s\",\"Flow Pkts/s\", \"Label\"], axis=1)\n",
    "test_dataset = test_dataset.drop(columns = [\"Timestamp\", \"Protocol\",\"PSH Flag Cnt\",\"Init Fwd Win Byts\",\"Flow Byts/s\",\"Flow Pkts/s\", \"Label\"], axis=1)"
   ]
  },
  {
   "cell_type": "code",
   "execution_count": 21,
   "metadata": {},
   "outputs": [
    {
     "data": {
      "text/plain": [
       "array([[1.23294778e-01, 8.85083665e-05, 3.83877159e-03, ...,\n",
       "        0.00000000e+00, 0.00000000e+00, 0.00000000e+00],\n",
       "       [8.08752842e-04, 1.29333346e-05, 0.00000000e+00, ...,\n",
       "        0.00000000e+00, 0.00000000e+00, 0.00000000e+00],\n",
       "       [1.23294778e-01, 4.95000186e-06, 1.91938580e-03, ...,\n",
       "        0.00000000e+00, 0.00000000e+00, 0.00000000e+00],\n",
       "       ...,\n",
       "       [1.22074038e-03, 1.63052753e-02, 4.18410042e-03, ...,\n",
       "        0.00000000e+00, 0.00000000e+00, 0.00000000e+00],\n",
       "       [8.06254817e-01, 3.52628995e-01, 3.75000000e-01, ...,\n",
       "        0.00000000e+00, 0.00000000e+00, 0.00000000e+00],\n",
       "       [1.22074038e-03, 8.38500028e-05, 3.22968207e-06, ...,\n",
       "        0.00000000e+00, 0.00000000e+00, 0.00000000e+00]])"
      ]
     },
     "execution_count": 21,
     "metadata": {},
     "output_type": "execute_result"
    }
   ],
   "source": [
    "# making train & test splits\n",
    "X_train = train_dataset.iloc[:, :-1].values\n",
    "X_test = test_dataset.iloc[:, :-1].values\n",
    "X_test"
   ]
  },
  {
   "cell_type": "code",
   "execution_count": 22,
   "metadata": {},
   "outputs": [
    {
     "name": "stdout",
     "output_type": "stream",
     "text": [
      "(104998, 63)\n",
      "(10500, 63)\n",
      "(104998, 15)\n",
      "(10500, 15)\n"
     ]
    }
   ],
   "source": [
    "# Check tran and test samples\n",
    "\n",
    "print(X_train.shape)\n",
    "print(X_test.shape)\n",
    "print(y_train.shape)\n",
    "print(y_test.shape)"
   ]
  },
  {
   "cell_type": "code",
   "execution_count": 23,
   "metadata": {},
   "outputs": [],
   "source": [
    "# reshape the data for CNN\n",
    "X_train = X_train.reshape(len(X_train), X_train.shape[1], 1)\n",
    "X_test = X_test.reshape(len(X_test), X_test.shape[1], 1)\n",
    "\n",
    "\n",
    "\n",
    "# Check shape\n",
    "X_train.shape \n",
    "X_test.shape\n",
    "\n",
    "# Automate model parameter\n",
    "\n",
    "feature_value = X_train.shape[1]"
   ]
  },
  {
   "cell_type": "code",
   "execution_count": 24,
   "metadata": {},
   "outputs": [
    {
     "data": {
      "text/plain": [
       "(10500, 63, 1)"
      ]
     },
     "execution_count": 24,
     "metadata": {},
     "output_type": "execute_result"
    }
   ],
   "source": [
    "X_train.shape \n",
    "X_test.shape"
   ]
  },
  {
   "cell_type": "code",
   "execution_count": 25,
   "metadata": {},
   "outputs": [],
   "source": [
    "# making the deep learning function for CNN\n",
    "def model():\n",
    "    inputs = Input(shape=(feature_value,1))\n",
    "    model = Sequential()\n",
    "    model.add(Conv1D(filters=64, kernel_size=6, activation='relu', #Convolutional layers learn local patterns within the data.\n",
    "                    padding='same', input_shape=(feature_value, 1))) \n",
    "    model.add(BatchNormalization()) #Batch normalization helps stabilize the training process by normalizing activations across each mini-batch. This can lead to faster convergence and better generalization.\n",
    "    \n",
    "    # adding a pooling layer\n",
    "    model.add(MaxPooling1D(pool_size=(3), strides=2, padding='same')) #Downsampling layers reduce dimensionality and increase the model's receptive field (the region of the input that affects a neuron's output).\n",
    "    \n",
    "    model.add(Conv1D(filters=64, kernel_size=6, activation='relu', \n",
    "                    padding='same', input_shape=(feature_value, 1)))\n",
    "    model.add(BatchNormalization())\n",
    "    model.add(MaxPooling1D(pool_size=(3), strides=2, padding='same'))\n",
    "    \n",
    "    model.add(Conv1D(filters=64, kernel_size=6, activation='relu', \n",
    "                    padding='same', input_shape=(feature_value, 1)))\n",
    "    model.add(BatchNormalization())\n",
    "    model.add(MaxPooling1D(pool_size=(3), strides=2, padding='same'))\n",
    "\n",
    "    model.add(Flatten()) #eshapes the multidimensional data into a single vector.\n",
    "    model.add(Dense(64, activation='relu'))\n",
    "    model.add(Dense(64, activation='relu')) # Fully connected layers, where each neuron connects to every output from the previous layer. \n",
    "    model.add(Dense(15, activation='softmax')) #The output layer with two neurons, matching the number of classes in your classification problem (assuming binary classification). 'softmax' gives probability-like outputs, ensuring the class predictions sum to 1.\n",
    "    \n",
    "    model.compile(loss='categorical_crossentropy', optimizer='adam', metrics=['accuracy'])\n",
    "    return model"
   ]
  },
  {
   "cell_type": "code",
   "execution_count": 26,
   "metadata": {},
   "outputs": [
    {
     "name": "stderr",
     "output_type": "stream",
     "text": [
      "d:\\Coding\\Python\\Python 3.12\\Lib\\site-packages\\keras\\src\\layers\\convolutional\\base_conv.py:99: UserWarning:\n",
      "\n",
      "Do not pass an `input_shape`/`input_dim` argument to a layer. When using Sequential models, prefer using an `Input(shape)` object as the first layer in the model instead.\n",
      "\n"
     ]
    },
    {
     "data": {
      "text/html": [
       "<pre style=\"white-space:pre;overflow-x:auto;line-height:normal;font-family:Menlo,'DejaVu Sans Mono',consolas,'Courier New',monospace\"><span style=\"font-weight: bold\">Model: \"sequential\"</span>\n",
       "</pre>\n"
      ],
      "text/plain": [
       "\u001b[1mModel: \"sequential\"\u001b[0m\n"
      ]
     },
     "metadata": {},
     "output_type": "display_data"
    },
    {
     "data": {
      "text/html": [
       "<pre style=\"white-space:pre;overflow-x:auto;line-height:normal;font-family:Menlo,'DejaVu Sans Mono',consolas,'Courier New',monospace\">┏━━━━━━━━━━━━━━━━━━━━━━━━━━━━━━━━━┳━━━━━━━━━━━━━━━━━━━━━━━━┳━━━━━━━━━━━━━━━┓\n",
       "┃<span style=\"font-weight: bold\"> Layer (type)                    </span>┃<span style=\"font-weight: bold\"> Output Shape           </span>┃<span style=\"font-weight: bold\">       Param # </span>┃\n",
       "┡━━━━━━━━━━━━━━━━━━━━━━━━━━━━━━━━━╇━━━━━━━━━━━━━━━━━━━━━━━━╇━━━━━━━━━━━━━━━┩\n",
       "│ conv1d (<span style=\"color: #0087ff; text-decoration-color: #0087ff\">Conv1D</span>)                 │ (<span style=\"color: #00d7ff; text-decoration-color: #00d7ff\">None</span>, <span style=\"color: #00af00; text-decoration-color: #00af00\">63</span>, <span style=\"color: #00af00; text-decoration-color: #00af00\">64</span>)         │           <span style=\"color: #00af00; text-decoration-color: #00af00\">448</span> │\n",
       "├─────────────────────────────────┼────────────────────────┼───────────────┤\n",
       "│ batch_normalization             │ (<span style=\"color: #00d7ff; text-decoration-color: #00d7ff\">None</span>, <span style=\"color: #00af00; text-decoration-color: #00af00\">63</span>, <span style=\"color: #00af00; text-decoration-color: #00af00\">64</span>)         │           <span style=\"color: #00af00; text-decoration-color: #00af00\">256</span> │\n",
       "│ (<span style=\"color: #0087ff; text-decoration-color: #0087ff\">BatchNormalization</span>)            │                        │               │\n",
       "├─────────────────────────────────┼────────────────────────┼───────────────┤\n",
       "│ max_pooling1d (<span style=\"color: #0087ff; text-decoration-color: #0087ff\">MaxPooling1D</span>)    │ (<span style=\"color: #00d7ff; text-decoration-color: #00d7ff\">None</span>, <span style=\"color: #00af00; text-decoration-color: #00af00\">32</span>, <span style=\"color: #00af00; text-decoration-color: #00af00\">64</span>)         │             <span style=\"color: #00af00; text-decoration-color: #00af00\">0</span> │\n",
       "├─────────────────────────────────┼────────────────────────┼───────────────┤\n",
       "│ conv1d_1 (<span style=\"color: #0087ff; text-decoration-color: #0087ff\">Conv1D</span>)               │ (<span style=\"color: #00d7ff; text-decoration-color: #00d7ff\">None</span>, <span style=\"color: #00af00; text-decoration-color: #00af00\">32</span>, <span style=\"color: #00af00; text-decoration-color: #00af00\">64</span>)         │        <span style=\"color: #00af00; text-decoration-color: #00af00\">24,640</span> │\n",
       "├─────────────────────────────────┼────────────────────────┼───────────────┤\n",
       "│ batch_normalization_1           │ (<span style=\"color: #00d7ff; text-decoration-color: #00d7ff\">None</span>, <span style=\"color: #00af00; text-decoration-color: #00af00\">32</span>, <span style=\"color: #00af00; text-decoration-color: #00af00\">64</span>)         │           <span style=\"color: #00af00; text-decoration-color: #00af00\">256</span> │\n",
       "│ (<span style=\"color: #0087ff; text-decoration-color: #0087ff\">BatchNormalization</span>)            │                        │               │\n",
       "├─────────────────────────────────┼────────────────────────┼───────────────┤\n",
       "│ max_pooling1d_1 (<span style=\"color: #0087ff; text-decoration-color: #0087ff\">MaxPooling1D</span>)  │ (<span style=\"color: #00d7ff; text-decoration-color: #00d7ff\">None</span>, <span style=\"color: #00af00; text-decoration-color: #00af00\">16</span>, <span style=\"color: #00af00; text-decoration-color: #00af00\">64</span>)         │             <span style=\"color: #00af00; text-decoration-color: #00af00\">0</span> │\n",
       "├─────────────────────────────────┼────────────────────────┼───────────────┤\n",
       "│ conv1d_2 (<span style=\"color: #0087ff; text-decoration-color: #0087ff\">Conv1D</span>)               │ (<span style=\"color: #00d7ff; text-decoration-color: #00d7ff\">None</span>, <span style=\"color: #00af00; text-decoration-color: #00af00\">16</span>, <span style=\"color: #00af00; text-decoration-color: #00af00\">64</span>)         │        <span style=\"color: #00af00; text-decoration-color: #00af00\">24,640</span> │\n",
       "├─────────────────────────────────┼────────────────────────┼───────────────┤\n",
       "│ batch_normalization_2           │ (<span style=\"color: #00d7ff; text-decoration-color: #00d7ff\">None</span>, <span style=\"color: #00af00; text-decoration-color: #00af00\">16</span>, <span style=\"color: #00af00; text-decoration-color: #00af00\">64</span>)         │           <span style=\"color: #00af00; text-decoration-color: #00af00\">256</span> │\n",
       "│ (<span style=\"color: #0087ff; text-decoration-color: #0087ff\">BatchNormalization</span>)            │                        │               │\n",
       "├─────────────────────────────────┼────────────────────────┼───────────────┤\n",
       "│ max_pooling1d_2 (<span style=\"color: #0087ff; text-decoration-color: #0087ff\">MaxPooling1D</span>)  │ (<span style=\"color: #00d7ff; text-decoration-color: #00d7ff\">None</span>, <span style=\"color: #00af00; text-decoration-color: #00af00\">8</span>, <span style=\"color: #00af00; text-decoration-color: #00af00\">64</span>)          │             <span style=\"color: #00af00; text-decoration-color: #00af00\">0</span> │\n",
       "├─────────────────────────────────┼────────────────────────┼───────────────┤\n",
       "│ flatten (<span style=\"color: #0087ff; text-decoration-color: #0087ff\">Flatten</span>)               │ (<span style=\"color: #00d7ff; text-decoration-color: #00d7ff\">None</span>, <span style=\"color: #00af00; text-decoration-color: #00af00\">512</span>)            │             <span style=\"color: #00af00; text-decoration-color: #00af00\">0</span> │\n",
       "├─────────────────────────────────┼────────────────────────┼───────────────┤\n",
       "│ dense (<span style=\"color: #0087ff; text-decoration-color: #0087ff\">Dense</span>)                   │ (<span style=\"color: #00d7ff; text-decoration-color: #00d7ff\">None</span>, <span style=\"color: #00af00; text-decoration-color: #00af00\">64</span>)             │        <span style=\"color: #00af00; text-decoration-color: #00af00\">32,832</span> │\n",
       "├─────────────────────────────────┼────────────────────────┼───────────────┤\n",
       "│ dense_1 (<span style=\"color: #0087ff; text-decoration-color: #0087ff\">Dense</span>)                 │ (<span style=\"color: #00d7ff; text-decoration-color: #00d7ff\">None</span>, <span style=\"color: #00af00; text-decoration-color: #00af00\">64</span>)             │         <span style=\"color: #00af00; text-decoration-color: #00af00\">4,160</span> │\n",
       "├─────────────────────────────────┼────────────────────────┼───────────────┤\n",
       "│ dense_2 (<span style=\"color: #0087ff; text-decoration-color: #0087ff\">Dense</span>)                 │ (<span style=\"color: #00d7ff; text-decoration-color: #00d7ff\">None</span>, <span style=\"color: #00af00; text-decoration-color: #00af00\">15</span>)             │           <span style=\"color: #00af00; text-decoration-color: #00af00\">975</span> │\n",
       "└─────────────────────────────────┴────────────────────────┴───────────────┘\n",
       "</pre>\n"
      ],
      "text/plain": [
       "┏━━━━━━━━━━━━━━━━━━━━━━━━━━━━━━━━━┳━━━━━━━━━━━━━━━━━━━━━━━━┳━━━━━━━━━━━━━━━┓\n",
       "┃\u001b[1m \u001b[0m\u001b[1mLayer (type)                   \u001b[0m\u001b[1m \u001b[0m┃\u001b[1m \u001b[0m\u001b[1mOutput Shape          \u001b[0m\u001b[1m \u001b[0m┃\u001b[1m \u001b[0m\u001b[1m      Param #\u001b[0m\u001b[1m \u001b[0m┃\n",
       "┡━━━━━━━━━━━━━━━━━━━━━━━━━━━━━━━━━╇━━━━━━━━━━━━━━━━━━━━━━━━╇━━━━━━━━━━━━━━━┩\n",
       "│ conv1d (\u001b[38;5;33mConv1D\u001b[0m)                 │ (\u001b[38;5;45mNone\u001b[0m, \u001b[38;5;34m63\u001b[0m, \u001b[38;5;34m64\u001b[0m)         │           \u001b[38;5;34m448\u001b[0m │\n",
       "├─────────────────────────────────┼────────────────────────┼───────────────┤\n",
       "│ batch_normalization             │ (\u001b[38;5;45mNone\u001b[0m, \u001b[38;5;34m63\u001b[0m, \u001b[38;5;34m64\u001b[0m)         │           \u001b[38;5;34m256\u001b[0m │\n",
       "│ (\u001b[38;5;33mBatchNormalization\u001b[0m)            │                        │               │\n",
       "├─────────────────────────────────┼────────────────────────┼───────────────┤\n",
       "│ max_pooling1d (\u001b[38;5;33mMaxPooling1D\u001b[0m)    │ (\u001b[38;5;45mNone\u001b[0m, \u001b[38;5;34m32\u001b[0m, \u001b[38;5;34m64\u001b[0m)         │             \u001b[38;5;34m0\u001b[0m │\n",
       "├─────────────────────────────────┼────────────────────────┼───────────────┤\n",
       "│ conv1d_1 (\u001b[38;5;33mConv1D\u001b[0m)               │ (\u001b[38;5;45mNone\u001b[0m, \u001b[38;5;34m32\u001b[0m, \u001b[38;5;34m64\u001b[0m)         │        \u001b[38;5;34m24,640\u001b[0m │\n",
       "├─────────────────────────────────┼────────────────────────┼───────────────┤\n",
       "│ batch_normalization_1           │ (\u001b[38;5;45mNone\u001b[0m, \u001b[38;5;34m32\u001b[0m, \u001b[38;5;34m64\u001b[0m)         │           \u001b[38;5;34m256\u001b[0m │\n",
       "│ (\u001b[38;5;33mBatchNormalization\u001b[0m)            │                        │               │\n",
       "├─────────────────────────────────┼────────────────────────┼───────────────┤\n",
       "│ max_pooling1d_1 (\u001b[38;5;33mMaxPooling1D\u001b[0m)  │ (\u001b[38;5;45mNone\u001b[0m, \u001b[38;5;34m16\u001b[0m, \u001b[38;5;34m64\u001b[0m)         │             \u001b[38;5;34m0\u001b[0m │\n",
       "├─────────────────────────────────┼────────────────────────┼───────────────┤\n",
       "│ conv1d_2 (\u001b[38;5;33mConv1D\u001b[0m)               │ (\u001b[38;5;45mNone\u001b[0m, \u001b[38;5;34m16\u001b[0m, \u001b[38;5;34m64\u001b[0m)         │        \u001b[38;5;34m24,640\u001b[0m │\n",
       "├─────────────────────────────────┼────────────────────────┼───────────────┤\n",
       "│ batch_normalization_2           │ (\u001b[38;5;45mNone\u001b[0m, \u001b[38;5;34m16\u001b[0m, \u001b[38;5;34m64\u001b[0m)         │           \u001b[38;5;34m256\u001b[0m │\n",
       "│ (\u001b[38;5;33mBatchNormalization\u001b[0m)            │                        │               │\n",
       "├─────────────────────────────────┼────────────────────────┼───────────────┤\n",
       "│ max_pooling1d_2 (\u001b[38;5;33mMaxPooling1D\u001b[0m)  │ (\u001b[38;5;45mNone\u001b[0m, \u001b[38;5;34m8\u001b[0m, \u001b[38;5;34m64\u001b[0m)          │             \u001b[38;5;34m0\u001b[0m │\n",
       "├─────────────────────────────────┼────────────────────────┼───────────────┤\n",
       "│ flatten (\u001b[38;5;33mFlatten\u001b[0m)               │ (\u001b[38;5;45mNone\u001b[0m, \u001b[38;5;34m512\u001b[0m)            │             \u001b[38;5;34m0\u001b[0m │\n",
       "├─────────────────────────────────┼────────────────────────┼───────────────┤\n",
       "│ dense (\u001b[38;5;33mDense\u001b[0m)                   │ (\u001b[38;5;45mNone\u001b[0m, \u001b[38;5;34m64\u001b[0m)             │        \u001b[38;5;34m32,832\u001b[0m │\n",
       "├─────────────────────────────────┼────────────────────────┼───────────────┤\n",
       "│ dense_1 (\u001b[38;5;33mDense\u001b[0m)                 │ (\u001b[38;5;45mNone\u001b[0m, \u001b[38;5;34m64\u001b[0m)             │         \u001b[38;5;34m4,160\u001b[0m │\n",
       "├─────────────────────────────────┼────────────────────────┼───────────────┤\n",
       "│ dense_2 (\u001b[38;5;33mDense\u001b[0m)                 │ (\u001b[38;5;45mNone\u001b[0m, \u001b[38;5;34m15\u001b[0m)             │           \u001b[38;5;34m975\u001b[0m │\n",
       "└─────────────────────────────────┴────────────────────────┴───────────────┘\n"
      ]
     },
     "metadata": {},
     "output_type": "display_data"
    },
    {
     "data": {
      "text/html": [
       "<pre style=\"white-space:pre;overflow-x:auto;line-height:normal;font-family:Menlo,'DejaVu Sans Mono',consolas,'Courier New',monospace\"><span style=\"font-weight: bold\"> Total params: </span><span style=\"color: #00af00; text-decoration-color: #00af00\">88,463</span> (345.56 KB)\n",
       "</pre>\n"
      ],
      "text/plain": [
       "\u001b[1m Total params: \u001b[0m\u001b[38;5;34m88,463\u001b[0m (345.56 KB)\n"
      ]
     },
     "metadata": {},
     "output_type": "display_data"
    },
    {
     "data": {
      "text/html": [
       "<pre style=\"white-space:pre;overflow-x:auto;line-height:normal;font-family:Menlo,'DejaVu Sans Mono',consolas,'Courier New',monospace\"><span style=\"font-weight: bold\"> Trainable params: </span><span style=\"color: #00af00; text-decoration-color: #00af00\">88,079</span> (344.06 KB)\n",
       "</pre>\n"
      ],
      "text/plain": [
       "\u001b[1m Trainable params: \u001b[0m\u001b[38;5;34m88,079\u001b[0m (344.06 KB)\n"
      ]
     },
     "metadata": {},
     "output_type": "display_data"
    },
    {
     "data": {
      "text/html": [
       "<pre style=\"white-space:pre;overflow-x:auto;line-height:normal;font-family:Menlo,'DejaVu Sans Mono',consolas,'Courier New',monospace\"><span style=\"font-weight: bold\"> Non-trainable params: </span><span style=\"color: #00af00; text-decoration-color: #00af00\">384</span> (1.50 KB)\n",
       "</pre>\n"
      ],
      "text/plain": [
       "\u001b[1m Non-trainable params: \u001b[0m\u001b[38;5;34m384\u001b[0m (1.50 KB)\n"
      ]
     },
     "metadata": {},
     "output_type": "display_data"
    }
   ],
   "source": [
    "# Create a model \n",
    "model_instance = model()\n",
    "\n",
    "# Summarize model parameter\n",
    "model_instance.summary()"
   ]
  },
  {
   "cell_type": "code",
   "execution_count": 27,
   "metadata": {},
   "outputs": [
    {
     "name": "stdout",
     "output_type": "stream",
     "text": [
      "Epoch 1/100\n",
      "\u001b[1m2188/2188\u001b[0m \u001b[32m━━━━━━━━━━━━━━━━━━━━\u001b[0m\u001b[37m\u001b[0m \u001b[1m7s\u001b[0m 2ms/step - accuracy: 0.9216 - loss: 0.2486 - val_accuracy: 0.6259 - val_loss: 1.6567\n",
      "Epoch 2/100\n",
      "\u001b[1m2188/2188\u001b[0m \u001b[32m━━━━━━━━━━━━━━━━━━━━\u001b[0m\u001b[37m\u001b[0m \u001b[1m5s\u001b[0m 2ms/step - accuracy: 0.9711 - loss: 0.0752 - val_accuracy: 0.9549 - val_loss: 0.0992\n",
      "Epoch 3/100\n",
      "\u001b[1m2188/2188\u001b[0m \u001b[32m━━━━━━━━━━━━━━━━━━━━\u001b[0m\u001b[37m\u001b[0m \u001b[1m5s\u001b[0m 2ms/step - accuracy: 0.9748 - loss: 0.0654 - val_accuracy: 0.9152 - val_loss: 0.1835\n",
      "Epoch 4/100\n",
      "\u001b[1m2188/2188\u001b[0m \u001b[32m━━━━━━━━━━━━━━━━━━━━\u001b[0m\u001b[37m\u001b[0m \u001b[1m5s\u001b[0m 2ms/step - accuracy: 0.9787 - loss: 0.0565 - val_accuracy: 0.9782 - val_loss: 0.0730\n",
      "Epoch 5/100\n",
      "\u001b[1m2188/2188\u001b[0m \u001b[32m━━━━━━━━━━━━━━━━━━━━\u001b[0m\u001b[37m\u001b[0m \u001b[1m5s\u001b[0m 2ms/step - accuracy: 0.9816 - loss: 0.0502 - val_accuracy: 0.9825 - val_loss: 0.0468\n",
      "Epoch 6/100\n",
      "\u001b[1m2188/2188\u001b[0m \u001b[32m━━━━━━━━━━━━━━━━━━━━\u001b[0m\u001b[37m\u001b[0m \u001b[1m5s\u001b[0m 2ms/step - accuracy: 0.9829 - loss: 0.0460 - val_accuracy: 0.8615 - val_loss: 0.4964\n",
      "Epoch 7/100\n",
      "\u001b[1m2188/2188\u001b[0m \u001b[32m━━━━━━━━━━━━━━━━━━━━\u001b[0m\u001b[37m\u001b[0m \u001b[1m5s\u001b[0m 2ms/step - accuracy: 0.9834 - loss: 0.0439 - val_accuracy: 0.9852 - val_loss: 0.0387\n",
      "Epoch 8/100\n",
      "\u001b[1m2188/2188\u001b[0m \u001b[32m━━━━━━━━━━━━━━━━━━━━\u001b[0m\u001b[37m\u001b[0m \u001b[1m5s\u001b[0m 2ms/step - accuracy: 0.9854 - loss: 0.0397 - val_accuracy: 0.9861 - val_loss: 0.0491\n",
      "Epoch 9/100\n",
      "\u001b[1m2188/2188\u001b[0m \u001b[32m━━━━━━━━━━━━━━━━━━━━\u001b[0m\u001b[37m\u001b[0m \u001b[1m5s\u001b[0m 2ms/step - accuracy: 0.9853 - loss: 0.0410 - val_accuracy: 0.9865 - val_loss: 0.0372\n",
      "Epoch 10/100\n",
      "\u001b[1m2188/2188\u001b[0m \u001b[32m━━━━━━━━━━━━━━━━━━━━\u001b[0m\u001b[37m\u001b[0m \u001b[1m5s\u001b[0m 2ms/step - accuracy: 0.9866 - loss: 0.0369 - val_accuracy: 0.9838 - val_loss: 0.0443\n",
      "Epoch 11/100\n",
      "\u001b[1m2188/2188\u001b[0m \u001b[32m━━━━━━━━━━━━━━━━━━━━\u001b[0m\u001b[37m\u001b[0m \u001b[1m5s\u001b[0m 2ms/step - accuracy: 0.9870 - loss: 0.0369 - val_accuracy: 0.9866 - val_loss: 0.0353\n",
      "Epoch 12/100\n",
      "\u001b[1m2188/2188\u001b[0m \u001b[32m━━━━━━━━━━━━━━━━━━━━\u001b[0m\u001b[37m\u001b[0m \u001b[1m5s\u001b[0m 2ms/step - accuracy: 0.9880 - loss: 0.0338 - val_accuracy: 0.9911 - val_loss: 0.0295\n",
      "Epoch 13/100\n",
      "\u001b[1m2188/2188\u001b[0m \u001b[32m━━━━━━━━━━━━━━━━━━━━\u001b[0m\u001b[37m\u001b[0m \u001b[1m5s\u001b[0m 2ms/step - accuracy: 0.9884 - loss: 0.0327 - val_accuracy: 0.9895 - val_loss: 0.0338\n",
      "Epoch 14/100\n",
      "\u001b[1m2188/2188\u001b[0m \u001b[32m━━━━━━━━━━━━━━━━━━━━\u001b[0m\u001b[37m\u001b[0m \u001b[1m5s\u001b[0m 2ms/step - accuracy: 0.9880 - loss: 0.0337 - val_accuracy: 0.9871 - val_loss: 0.0345\n",
      "Epoch 15/100\n",
      "\u001b[1m2188/2188\u001b[0m \u001b[32m━━━━━━━━━━━━━━━━━━━━\u001b[0m\u001b[37m\u001b[0m \u001b[1m5s\u001b[0m 2ms/step - accuracy: 0.9895 - loss: 0.0304 - val_accuracy: 0.9909 - val_loss: 0.0278\n",
      "Epoch 16/100\n",
      "\u001b[1m2188/2188\u001b[0m \u001b[32m━━━━━━━━━━━━━━━━━━━━\u001b[0m\u001b[37m\u001b[0m \u001b[1m5s\u001b[0m 2ms/step - accuracy: 0.9890 - loss: 0.0315 - val_accuracy: 0.9877 - val_loss: 0.0340\n",
      "Epoch 17/100\n",
      "\u001b[1m2188/2188\u001b[0m \u001b[32m━━━━━━━━━━━━━━━━━━━━\u001b[0m\u001b[37m\u001b[0m \u001b[1m5s\u001b[0m 2ms/step - accuracy: 0.9891 - loss: 0.0314 - val_accuracy: 0.9682 - val_loss: 0.0837\n",
      "Epoch 18/100\n",
      "\u001b[1m2188/2188\u001b[0m \u001b[32m━━━━━━━━━━━━━━━━━━━━\u001b[0m\u001b[37m\u001b[0m \u001b[1m5s\u001b[0m 2ms/step - accuracy: 0.9893 - loss: 0.0303 - val_accuracy: 0.9885 - val_loss: 0.0327\n",
      "Epoch 19/100\n",
      "\u001b[1m2188/2188\u001b[0m \u001b[32m━━━━━━━━━━━━━━━━━━━━\u001b[0m\u001b[37m\u001b[0m \u001b[1m5s\u001b[0m 2ms/step - accuracy: 0.9894 - loss: 0.0305 - val_accuracy: 0.9910 - val_loss: 0.0262\n",
      "Epoch 20/100\n",
      "\u001b[1m2188/2188\u001b[0m \u001b[32m━━━━━━━━━━━━━━━━━━━━\u001b[0m\u001b[37m\u001b[0m \u001b[1m5s\u001b[0m 2ms/step - accuracy: 0.9896 - loss: 0.0288 - val_accuracy: 0.9907 - val_loss: 0.0276\n",
      "Epoch 21/100\n",
      "\u001b[1m2188/2188\u001b[0m \u001b[32m━━━━━━━━━━━━━━━━━━━━\u001b[0m\u001b[37m\u001b[0m \u001b[1m5s\u001b[0m 2ms/step - accuracy: 0.9898 - loss: 0.0291 - val_accuracy: 0.9900 - val_loss: 0.0278\n",
      "Epoch 22/100\n",
      "\u001b[1m2188/2188\u001b[0m \u001b[32m━━━━━━━━━━━━━━━━━━━━\u001b[0m\u001b[37m\u001b[0m \u001b[1m5s\u001b[0m 2ms/step - accuracy: 0.9900 - loss: 0.0287 - val_accuracy: 0.9905 - val_loss: 0.0274\n",
      "Epoch 23/100\n",
      "\u001b[1m2188/2188\u001b[0m \u001b[32m━━━━━━━━━━━━━━━━━━━━\u001b[0m\u001b[37m\u001b[0m \u001b[1m5s\u001b[0m 2ms/step - accuracy: 0.9907 - loss: 0.0275 - val_accuracy: 0.9902 - val_loss: 0.0290\n",
      "Epoch 24/100\n",
      "\u001b[1m2188/2188\u001b[0m \u001b[32m━━━━━━━━━━━━━━━━━━━━\u001b[0m\u001b[37m\u001b[0m \u001b[1m5s\u001b[0m 2ms/step - accuracy: 0.9900 - loss: 0.0287 - val_accuracy: 0.9884 - val_loss: 0.0315\n",
      "Epoch 25/100\n",
      "\u001b[1m2188/2188\u001b[0m \u001b[32m━━━━━━━━━━━━━━━━━━━━\u001b[0m\u001b[37m\u001b[0m \u001b[1m5s\u001b[0m 2ms/step - accuracy: 0.9904 - loss: 0.0277 - val_accuracy: 0.9890 - val_loss: 0.0337\n",
      "Epoch 26/100\n",
      "\u001b[1m2188/2188\u001b[0m \u001b[32m━━━━━━━━━━━━━━━━━━━━\u001b[0m\u001b[37m\u001b[0m \u001b[1m5s\u001b[0m 2ms/step - accuracy: 0.9904 - loss: 0.0285 - val_accuracy: 0.9921 - val_loss: 0.0304\n",
      "Epoch 27/100\n",
      "\u001b[1m2188/2188\u001b[0m \u001b[32m━━━━━━━━━━━━━━━━━━━━\u001b[0m\u001b[37m\u001b[0m \u001b[1m5s\u001b[0m 2ms/step - accuracy: 0.9912 - loss: 0.0263 - val_accuracy: 0.9915 - val_loss: 0.0265\n",
      "Epoch 28/100\n",
      "\u001b[1m2188/2188\u001b[0m \u001b[32m━━━━━━━━━━━━━━━━━━━━\u001b[0m\u001b[37m\u001b[0m \u001b[1m5s\u001b[0m 2ms/step - accuracy: 0.9906 - loss: 0.0279 - val_accuracy: 0.9913 - val_loss: 0.0278\n",
      "Epoch 29/100\n",
      "\u001b[1m2188/2188\u001b[0m \u001b[32m━━━━━━━━━━━━━━━━━━━━\u001b[0m\u001b[37m\u001b[0m \u001b[1m5s\u001b[0m 2ms/step - accuracy: 0.9911 - loss: 0.0254 - val_accuracy: 0.8594 - val_loss: 0.6834\n",
      "Epoch 30/100\n",
      "\u001b[1m2188/2188\u001b[0m \u001b[32m━━━━━━━━━━━━━━━━━━━━\u001b[0m\u001b[37m\u001b[0m \u001b[1m5s\u001b[0m 2ms/step - accuracy: 0.9914 - loss: 0.0252 - val_accuracy: 0.9888 - val_loss: 0.0352\n",
      "Epoch 31/100\n",
      "\u001b[1m2188/2188\u001b[0m \u001b[32m━━━━━━━━━━━━━━━━━━━━\u001b[0m\u001b[37m\u001b[0m \u001b[1m5s\u001b[0m 2ms/step - accuracy: 0.9908 - loss: 0.0273 - val_accuracy: 0.9921 - val_loss: 0.0252\n",
      "Epoch 32/100\n",
      "\u001b[1m2188/2188\u001b[0m \u001b[32m━━━━━━━━━━━━━━━━━━━━\u001b[0m\u001b[37m\u001b[0m \u001b[1m5s\u001b[0m 2ms/step - accuracy: 0.9908 - loss: 0.0263 - val_accuracy: 0.9918 - val_loss: 0.0257\n",
      "Epoch 33/100\n",
      "\u001b[1m2188/2188\u001b[0m \u001b[32m━━━━━━━━━━━━━━━━━━━━\u001b[0m\u001b[37m\u001b[0m \u001b[1m5s\u001b[0m 2ms/step - accuracy: 0.9914 - loss: 0.0249 - val_accuracy: 0.9898 - val_loss: 0.0264\n",
      "Epoch 34/100\n",
      "\u001b[1m2188/2188\u001b[0m \u001b[32m━━━━━━━━━━━━━━━━━━━━\u001b[0m\u001b[37m\u001b[0m \u001b[1m5s\u001b[0m 2ms/step - accuracy: 0.9904 - loss: 0.0270 - val_accuracy: 0.9828 - val_loss: 0.0462\n",
      "Epoch 35/100\n",
      "\u001b[1m2188/2188\u001b[0m \u001b[32m━━━━━━━━━━━━━━━━━━━━\u001b[0m\u001b[37m\u001b[0m \u001b[1m5s\u001b[0m 2ms/step - accuracy: 0.9908 - loss: 0.0261 - val_accuracy: 0.9174 - val_loss: 0.2010\n",
      "Epoch 36/100\n",
      "\u001b[1m2188/2188\u001b[0m \u001b[32m━━━━━━━━━━━━━━━━━━━━\u001b[0m\u001b[37m\u001b[0m \u001b[1m5s\u001b[0m 2ms/step - accuracy: 0.9906 - loss: 0.0261 - val_accuracy: 0.9912 - val_loss: 0.0236\n",
      "Epoch 37/100\n",
      "\u001b[1m2188/2188\u001b[0m \u001b[32m━━━━━━━━━━━━━━━━━━━━\u001b[0m\u001b[37m\u001b[0m \u001b[1m5s\u001b[0m 2ms/step - accuracy: 0.9910 - loss: 0.0261 - val_accuracy: 0.9929 - val_loss: 0.0240\n",
      "Epoch 38/100\n",
      "\u001b[1m2188/2188\u001b[0m \u001b[32m━━━━━━━━━━━━━━━━━━━━\u001b[0m\u001b[37m\u001b[0m \u001b[1m5s\u001b[0m 2ms/step - accuracy: 0.9913 - loss: 0.0241 - val_accuracy: 0.9917 - val_loss: 0.0252\n",
      "Epoch 39/100\n",
      "\u001b[1m2188/2188\u001b[0m \u001b[32m━━━━━━━━━━━━━━━━━━━━\u001b[0m\u001b[37m\u001b[0m \u001b[1m5s\u001b[0m 2ms/step - accuracy: 0.9913 - loss: 0.0248 - val_accuracy: 0.9903 - val_loss: 0.0269\n",
      "Epoch 40/100\n",
      "\u001b[1m2188/2188\u001b[0m \u001b[32m━━━━━━━━━━━━━━━━━━━━\u001b[0m\u001b[37m\u001b[0m \u001b[1m5s\u001b[0m 2ms/step - accuracy: 0.9917 - loss: 0.0250 - val_accuracy: 0.9918 - val_loss: 0.0243\n",
      "Epoch 41/100\n",
      "\u001b[1m2188/2188\u001b[0m \u001b[32m━━━━━━━━━━━━━━━━━━━━\u001b[0m\u001b[37m\u001b[0m \u001b[1m5s\u001b[0m 2ms/step - accuracy: 0.9912 - loss: 0.0261 - val_accuracy: 0.9901 - val_loss: 0.0282\n",
      "Epoch 42/100\n",
      "\u001b[1m2188/2188\u001b[0m \u001b[32m━━━━━━━━━━━━━━━━━━━━\u001b[0m\u001b[37m\u001b[0m \u001b[1m5s\u001b[0m 2ms/step - accuracy: 0.9874 - loss: 0.0384 - val_accuracy: 0.9935 - val_loss: 0.0209\n",
      "Epoch 43/100\n",
      "\u001b[1m2188/2188\u001b[0m \u001b[32m━━━━━━━━━━━━━━━━━━━━\u001b[0m\u001b[37m\u001b[0m \u001b[1m5s\u001b[0m 2ms/step - accuracy: 0.9916 - loss: 0.0242 - val_accuracy: 0.9928 - val_loss: 0.0242\n",
      "Epoch 44/100\n",
      "\u001b[1m2188/2188\u001b[0m \u001b[32m━━━━━━━━━━━━━━━━━━━━\u001b[0m\u001b[37m\u001b[0m \u001b[1m5s\u001b[0m 2ms/step - accuracy: 0.9917 - loss: 0.0237 - val_accuracy: 0.9925 - val_loss: 0.0235\n",
      "Epoch 45/100\n",
      "\u001b[1m2188/2188\u001b[0m \u001b[32m━━━━━━━━━━━━━━━━━━━━\u001b[0m\u001b[37m\u001b[0m \u001b[1m5s\u001b[0m 2ms/step - accuracy: 0.9922 - loss: 0.0241 - val_accuracy: 0.9930 - val_loss: 0.0213\n",
      "Epoch 46/100\n",
      "\u001b[1m2188/2188\u001b[0m \u001b[32m━━━━━━━━━━━━━━━━━━━━\u001b[0m\u001b[37m\u001b[0m \u001b[1m5s\u001b[0m 2ms/step - accuracy: 0.9915 - loss: 0.0254 - val_accuracy: 0.9915 - val_loss: 0.0244\n",
      "Epoch 47/100\n",
      "\u001b[1m2188/2188\u001b[0m \u001b[32m━━━━━━━━━━━━━━━━━━━━\u001b[0m\u001b[37m\u001b[0m \u001b[1m5s\u001b[0m 2ms/step - accuracy: 0.9913 - loss: 0.0254 - val_accuracy: 0.9670 - val_loss: 0.2682\n",
      "Epoch 48/100\n",
      "\u001b[1m2188/2188\u001b[0m \u001b[32m━━━━━━━━━━━━━━━━━━━━\u001b[0m\u001b[37m\u001b[0m \u001b[1m5s\u001b[0m 2ms/step - accuracy: 0.9920 - loss: 0.0249 - val_accuracy: 0.9920 - val_loss: 0.0265\n",
      "Epoch 49/100\n",
      "\u001b[1m2188/2188\u001b[0m \u001b[32m━━━━━━━━━━━━━━━━━━━━\u001b[0m\u001b[37m\u001b[0m \u001b[1m5s\u001b[0m 2ms/step - accuracy: 0.9920 - loss: 0.0243 - val_accuracy: 0.9937 - val_loss: 0.0214\n",
      "Epoch 50/100\n",
      "\u001b[1m2188/2188\u001b[0m \u001b[32m━━━━━━━━━━━━━━━━━━━━\u001b[0m\u001b[37m\u001b[0m \u001b[1m5s\u001b[0m 2ms/step - accuracy: 0.9927 - loss: 0.0228 - val_accuracy: 0.9930 - val_loss: 0.0220\n",
      "Epoch 51/100\n",
      "\u001b[1m2188/2188\u001b[0m \u001b[32m━━━━━━━━━━━━━━━━━━━━\u001b[0m\u001b[37m\u001b[0m \u001b[1m5s\u001b[0m 2ms/step - accuracy: 0.9926 - loss: 0.0223 - val_accuracy: 0.9944 - val_loss: 0.0191\n",
      "Epoch 52/100\n",
      "\u001b[1m2188/2188\u001b[0m \u001b[32m━━━━━━━━━━━━━━━━━━━━\u001b[0m\u001b[37m\u001b[0m \u001b[1m5s\u001b[0m 2ms/step - accuracy: 0.9923 - loss: 0.0233 - val_accuracy: 0.9934 - val_loss: 0.0204\n",
      "Epoch 53/100\n",
      "\u001b[1m2188/2188\u001b[0m \u001b[32m━━━━━━━━━━━━━━━━━━━━\u001b[0m\u001b[37m\u001b[0m \u001b[1m5s\u001b[0m 2ms/step - accuracy: 0.9932 - loss: 0.0223 - val_accuracy: 0.9946 - val_loss: 0.0244\n",
      "Epoch 54/100\n",
      "\u001b[1m2188/2188\u001b[0m \u001b[32m━━━━━━━━━━━━━━━━━━━━\u001b[0m\u001b[37m\u001b[0m \u001b[1m5s\u001b[0m 2ms/step - accuracy: 0.9937 - loss: 0.0208 - val_accuracy: 0.9935 - val_loss: 0.0197\n",
      "Epoch 55/100\n",
      "\u001b[1m2188/2188\u001b[0m \u001b[32m━━━━━━━━━━━━━━━━━━━━\u001b[0m\u001b[37m\u001b[0m \u001b[1m5s\u001b[0m 2ms/step - accuracy: 0.9934 - loss: 0.0214 - val_accuracy: 0.9946 - val_loss: 0.0186\n",
      "Epoch 56/100\n",
      "\u001b[1m2188/2188\u001b[0m \u001b[32m━━━━━━━━━━━━━━━━━━━━\u001b[0m\u001b[37m\u001b[0m \u001b[1m5s\u001b[0m 2ms/step - accuracy: 0.9940 - loss: 0.0194 - val_accuracy: 0.9951 - val_loss: 0.0177\n",
      "Epoch 57/100\n",
      "\u001b[1m2188/2188\u001b[0m \u001b[32m━━━━━━━━━━━━━━━━━━━━\u001b[0m\u001b[37m\u001b[0m \u001b[1m5s\u001b[0m 2ms/step - accuracy: 0.9934 - loss: 0.0208 - val_accuracy: 0.9943 - val_loss: 0.0237\n",
      "Epoch 58/100\n",
      "\u001b[1m2188/2188\u001b[0m \u001b[32m━━━━━━━━━━━━━━━━━━━━\u001b[0m\u001b[37m\u001b[0m \u001b[1m5s\u001b[0m 2ms/step - accuracy: 0.9939 - loss: 0.0215 - val_accuracy: 0.9930 - val_loss: 0.0207\n",
      "Epoch 59/100\n",
      "\u001b[1m2188/2188\u001b[0m \u001b[32m━━━━━━━━━━━━━━━━━━━━\u001b[0m\u001b[37m\u001b[0m \u001b[1m5s\u001b[0m 2ms/step - accuracy: 0.9938 - loss: 0.0201 - val_accuracy: 0.9911 - val_loss: 0.0340\n",
      "Epoch 60/100\n",
      "\u001b[1m2188/2188\u001b[0m \u001b[32m━━━━━━━━━━━━━━━━━━━━\u001b[0m\u001b[37m\u001b[0m \u001b[1m5s\u001b[0m 2ms/step - accuracy: 0.9931 - loss: 0.0236 - val_accuracy: 0.9936 - val_loss: 0.0206\n",
      "Epoch 61/100\n",
      "\u001b[1m2188/2188\u001b[0m \u001b[32m━━━━━━━━━━━━━━━━━━━━\u001b[0m\u001b[37m\u001b[0m \u001b[1m5s\u001b[0m 2ms/step - accuracy: 0.9938 - loss: 0.0202 - val_accuracy: 0.9942 - val_loss: 0.0185\n",
      "Epoch 62/100\n",
      "\u001b[1m2188/2188\u001b[0m \u001b[32m━━━━━━━━━━━━━━━━━━━━\u001b[0m\u001b[37m\u001b[0m \u001b[1m5s\u001b[0m 2ms/step - accuracy: 0.9941 - loss: 0.0195 - val_accuracy: 0.9950 - val_loss: 0.0162\n",
      "Epoch 63/100\n",
      "\u001b[1m2188/2188\u001b[0m \u001b[32m━━━━━━━━━━━━━━━━━━━━\u001b[0m\u001b[37m\u001b[0m \u001b[1m5s\u001b[0m 2ms/step - accuracy: 0.9938 - loss: 0.0205 - val_accuracy: 0.9950 - val_loss: 0.0179\n",
      "Epoch 64/100\n",
      "\u001b[1m2188/2188\u001b[0m \u001b[32m━━━━━━━━━━━━━━━━━━━━\u001b[0m\u001b[37m\u001b[0m \u001b[1m5s\u001b[0m 2ms/step - accuracy: 0.9939 - loss: 0.0194 - val_accuracy: 0.9954 - val_loss: 0.0174\n",
      "Epoch 65/100\n",
      "\u001b[1m2188/2188\u001b[0m \u001b[32m━━━━━━━━━━━━━━━━━━━━\u001b[0m\u001b[37m\u001b[0m \u001b[1m5s\u001b[0m 2ms/step - accuracy: 0.9937 - loss: 0.0222 - val_accuracy: 0.9918 - val_loss: 0.0277\n",
      "Epoch 66/100\n",
      "\u001b[1m2188/2188\u001b[0m \u001b[32m━━━━━━━━━━━━━━━━━━━━\u001b[0m\u001b[37m\u001b[0m \u001b[1m5s\u001b[0m 2ms/step - accuracy: 0.9942 - loss: 0.0193 - val_accuracy: 0.9950 - val_loss: 0.0179\n",
      "Epoch 67/100\n",
      "\u001b[1m2188/2188\u001b[0m \u001b[32m━━━━━━━━━━━━━━━━━━━━\u001b[0m\u001b[37m\u001b[0m \u001b[1m5s\u001b[0m 2ms/step - accuracy: 0.9945 - loss: 0.0198 - val_accuracy: 0.9950 - val_loss: 0.0185\n",
      "Epoch 68/100\n",
      "\u001b[1m2188/2188\u001b[0m \u001b[32m━━━━━━━━━━━━━━━━━━━━\u001b[0m\u001b[37m\u001b[0m \u001b[1m5s\u001b[0m 2ms/step - accuracy: 0.9940 - loss: 0.0208 - val_accuracy: 0.9952 - val_loss: 0.0172\n",
      "Epoch 69/100\n",
      "\u001b[1m2188/2188\u001b[0m \u001b[32m━━━━━━━━━━━━━━━━━━━━\u001b[0m\u001b[37m\u001b[0m \u001b[1m5s\u001b[0m 2ms/step - accuracy: 0.9944 - loss: 0.0189 - val_accuracy: 0.9929 - val_loss: 0.0246\n",
      "Epoch 70/100\n",
      "\u001b[1m2188/2188\u001b[0m \u001b[32m━━━━━━━━━━━━━━━━━━━━\u001b[0m\u001b[37m\u001b[0m \u001b[1m5s\u001b[0m 2ms/step - accuracy: 0.9936 - loss: 0.0207 - val_accuracy: 0.9950 - val_loss: 0.0175\n",
      "Epoch 71/100\n",
      "\u001b[1m2188/2188\u001b[0m \u001b[32m━━━━━━━━━━━━━━━━━━━━\u001b[0m\u001b[37m\u001b[0m \u001b[1m5s\u001b[0m 2ms/step - accuracy: 0.9940 - loss: 0.0201 - val_accuracy: 0.9211 - val_loss: 0.5371\n",
      "Epoch 72/100\n",
      "\u001b[1m2188/2188\u001b[0m \u001b[32m━━━━━━━━━━━━━━━━━━━━\u001b[0m\u001b[37m\u001b[0m \u001b[1m5s\u001b[0m 2ms/step - accuracy: 0.9943 - loss: 0.0191 - val_accuracy: 0.9929 - val_loss: 0.0196\n",
      "Epoch 73/100\n",
      "\u001b[1m2188/2188\u001b[0m \u001b[32m━━━━━━━━━━━━━━━━━━━━\u001b[0m\u001b[37m\u001b[0m \u001b[1m5s\u001b[0m 2ms/step - accuracy: 0.9939 - loss: 0.0201 - val_accuracy: 0.9950 - val_loss: 0.0193\n",
      "Epoch 74/100\n",
      "\u001b[1m2188/2188\u001b[0m \u001b[32m━━━━━━━━━━━━━━━━━━━━\u001b[0m\u001b[37m\u001b[0m \u001b[1m5s\u001b[0m 2ms/step - accuracy: 0.9940 - loss: 0.0208 - val_accuracy: 0.9946 - val_loss: 0.0206\n",
      "Epoch 75/100\n",
      "\u001b[1m2188/2188\u001b[0m \u001b[32m━━━━━━━━━━━━━━━━━━━━\u001b[0m\u001b[37m\u001b[0m \u001b[1m5s\u001b[0m 2ms/step - accuracy: 0.9947 - loss: 0.0185 - val_accuracy: 0.9955 - val_loss: 0.0170\n",
      "Epoch 76/100\n",
      "\u001b[1m2188/2188\u001b[0m \u001b[32m━━━━━━━━━━━━━━━━━━━━\u001b[0m\u001b[37m\u001b[0m \u001b[1m5s\u001b[0m 2ms/step - accuracy: 0.9949 - loss: 0.0177 - val_accuracy: 0.9944 - val_loss: 0.0187\n",
      "Epoch 77/100\n",
      "\u001b[1m2188/2188\u001b[0m \u001b[32m━━━━━━━━━━━━━━━━━━━━\u001b[0m\u001b[37m\u001b[0m \u001b[1m5s\u001b[0m 2ms/step - accuracy: 0.9940 - loss: 0.0197 - val_accuracy: 0.9950 - val_loss: 0.0173\n",
      "Epoch 78/100\n",
      "\u001b[1m2188/2188\u001b[0m \u001b[32m━━━━━━━━━━━━━━━━━━━━\u001b[0m\u001b[37m\u001b[0m \u001b[1m5s\u001b[0m 2ms/step - accuracy: 0.9939 - loss: 0.0199 - val_accuracy: 0.9952 - val_loss: 0.0180\n",
      "Epoch 79/100\n",
      "\u001b[1m2188/2188\u001b[0m \u001b[32m━━━━━━━━━━━━━━━━━━━━\u001b[0m\u001b[37m\u001b[0m \u001b[1m5s\u001b[0m 2ms/step - accuracy: 0.9942 - loss: 0.0221 - val_accuracy: 0.9938 - val_loss: 0.0182\n",
      "Epoch 80/100\n",
      "\u001b[1m2188/2188\u001b[0m \u001b[32m━━━━━━━━━━━━━━━━━━━━\u001b[0m\u001b[37m\u001b[0m \u001b[1m5s\u001b[0m 2ms/step - accuracy: 0.9948 - loss: 0.0177 - val_accuracy: 0.9893 - val_loss: 0.0353\n",
      "Epoch 81/100\n",
      "\u001b[1m2188/2188\u001b[0m \u001b[32m━━━━━━━━━━━━━━━━━━━━\u001b[0m\u001b[37m\u001b[0m \u001b[1m5s\u001b[0m 2ms/step - accuracy: 0.9946 - loss: 0.0187 - val_accuracy: 0.9939 - val_loss: 0.0227\n",
      "Epoch 82/100\n",
      "\u001b[1m2188/2188\u001b[0m \u001b[32m━━━━━━━━━━━━━━━━━━━━\u001b[0m\u001b[37m\u001b[0m \u001b[1m5s\u001b[0m 2ms/step - accuracy: 0.9944 - loss: 0.0188 - val_accuracy: 0.9914 - val_loss: 0.0293\n",
      "Epoch 83/100\n",
      "\u001b[1m2188/2188\u001b[0m \u001b[32m━━━━━━━━━━━━━━━━━━━━\u001b[0m\u001b[37m\u001b[0m \u001b[1m5s\u001b[0m 2ms/step - accuracy: 0.9934 - loss: 0.0215 - val_accuracy: 0.9951 - val_loss: 0.0209\n",
      "Epoch 84/100\n",
      "\u001b[1m2188/2188\u001b[0m \u001b[32m━━━━━━━━━━━━━━━━━━━━\u001b[0m\u001b[37m\u001b[0m \u001b[1m5s\u001b[0m 2ms/step - accuracy: 0.9943 - loss: 0.0184 - val_accuracy: 0.9951 - val_loss: 0.0187\n",
      "Epoch 85/100\n",
      "\u001b[1m2188/2188\u001b[0m \u001b[32m━━━━━━━━━━━━━━━━━━━━\u001b[0m\u001b[37m\u001b[0m \u001b[1m5s\u001b[0m 2ms/step - accuracy: 0.9948 - loss: 0.0181 - val_accuracy: 0.9920 - val_loss: 0.0328\n",
      "Epoch 86/100\n",
      "\u001b[1m2188/2188\u001b[0m \u001b[32m━━━━━━━━━━━━━━━━━━━━\u001b[0m\u001b[37m\u001b[0m \u001b[1m5s\u001b[0m 2ms/step - accuracy: 0.9946 - loss: 0.0181 - val_accuracy: 0.9946 - val_loss: 0.0230\n",
      "Epoch 87/100\n",
      "\u001b[1m2188/2188\u001b[0m \u001b[32m━━━━━━━━━━━━━━━━━━━━\u001b[0m\u001b[37m\u001b[0m \u001b[1m5s\u001b[0m 2ms/step - accuracy: 0.9945 - loss: 0.0185 - val_accuracy: 0.9946 - val_loss: 0.0206\n",
      "Epoch 88/100\n",
      "\u001b[1m2188/2188\u001b[0m \u001b[32m━━━━━━━━━━━━━━━━━━━━\u001b[0m\u001b[37m\u001b[0m \u001b[1m5s\u001b[0m 2ms/step - accuracy: 0.9948 - loss: 0.0176 - val_accuracy: 0.9947 - val_loss: 0.0197\n",
      "Epoch 89/100\n",
      "\u001b[1m2188/2188\u001b[0m \u001b[32m━━━━━━━━━━━━━━━━━━━━\u001b[0m\u001b[37m\u001b[0m \u001b[1m5s\u001b[0m 2ms/step - accuracy: 0.9941 - loss: 0.0203 - val_accuracy: 0.9948 - val_loss: 0.0174\n",
      "Epoch 90/100\n",
      "\u001b[1m2188/2188\u001b[0m \u001b[32m━━━━━━━━━━━━━━━━━━━━\u001b[0m\u001b[37m\u001b[0m \u001b[1m5s\u001b[0m 2ms/step - accuracy: 0.9938 - loss: 0.0192 - val_accuracy: 0.9951 - val_loss: 0.0164\n",
      "Epoch 91/100\n",
      "\u001b[1m2188/2188\u001b[0m \u001b[32m━━━━━━━━━━━━━━━━━━━━\u001b[0m\u001b[37m\u001b[0m \u001b[1m5s\u001b[0m 2ms/step - accuracy: 0.9943 - loss: 0.0198 - val_accuracy: 0.9956 - val_loss: 0.0161\n",
      "Epoch 92/100\n",
      "\u001b[1m2188/2188\u001b[0m \u001b[32m━━━━━━━━━━━━━━━━━━━━\u001b[0m\u001b[37m\u001b[0m \u001b[1m5s\u001b[0m 2ms/step - accuracy: 0.9946 - loss: 0.0187 - val_accuracy: 0.9927 - val_loss: 0.0225\n",
      "Epoch 93/100\n",
      "\u001b[1m2188/2188\u001b[0m \u001b[32m━━━━━━━━━━━━━━━━━━━━\u001b[0m\u001b[37m\u001b[0m \u001b[1m5s\u001b[0m 2ms/step - accuracy: 0.9947 - loss: 0.0183 - val_accuracy: 0.9954 - val_loss: 0.0163\n",
      "Epoch 94/100\n",
      "\u001b[1m2188/2188\u001b[0m \u001b[32m━━━━━━━━━━━━━━━━━━━━\u001b[0m\u001b[37m\u001b[0m \u001b[1m5s\u001b[0m 2ms/step - accuracy: 0.9940 - loss: 0.0204 - val_accuracy: 0.9955 - val_loss: 0.0160\n",
      "Epoch 95/100\n",
      "\u001b[1m2188/2188\u001b[0m \u001b[32m━━━━━━━━━━━━━━━━━━━━\u001b[0m\u001b[37m\u001b[0m \u001b[1m5s\u001b[0m 2ms/step - accuracy: 0.9948 - loss: 0.0173 - val_accuracy: 0.9954 - val_loss: 0.0171\n",
      "Epoch 96/100\n",
      "\u001b[1m2188/2188\u001b[0m \u001b[32m━━━━━━━━━━━━━━━━━━━━\u001b[0m\u001b[37m\u001b[0m \u001b[1m5s\u001b[0m 2ms/step - accuracy: 0.9942 - loss: 0.0189 - val_accuracy: 0.9954 - val_loss: 0.0167\n",
      "Epoch 97/100\n",
      "\u001b[1m2188/2188\u001b[0m \u001b[32m━━━━━━━━━━━━━━━━━━━━\u001b[0m\u001b[37m\u001b[0m \u001b[1m5s\u001b[0m 2ms/step - accuracy: 0.9947 - loss: 0.0196 - val_accuracy: 0.9949 - val_loss: 0.0175\n",
      "Epoch 98/100\n",
      "\u001b[1m2188/2188\u001b[0m \u001b[32m━━━━━━━━━━━━━━━━━━━━\u001b[0m\u001b[37m\u001b[0m \u001b[1m5s\u001b[0m 2ms/step - accuracy: 0.9944 - loss: 0.0187 - val_accuracy: 0.9957 - val_loss: 0.0147\n",
      "Epoch 99/100\n",
      "\u001b[1m2188/2188\u001b[0m \u001b[32m━━━━━━━━━━━━━━━━━━━━\u001b[0m\u001b[37m\u001b[0m \u001b[1m5s\u001b[0m 2ms/step - accuracy: 0.9947 - loss: 0.0171 - val_accuracy: 0.9947 - val_loss: 0.0188\n",
      "Epoch 100/100\n",
      "\u001b[1m2188/2188\u001b[0m \u001b[32m━━━━━━━━━━━━━━━━━━━━\u001b[0m\u001b[37m\u001b[0m \u001b[1m5s\u001b[0m 2ms/step - accuracy: 0.9941 - loss: 0.0202 - val_accuracy: 0.9951 - val_loss: 0.0164\n"
     ]
    }
   ],
   "source": [
    "# Run model and save a log file\n",
    "\n",
    "logger = CSVLogger('logs.csv', append=True)\n",
    "his = model_instance.fit(X_train, y_train, epochs=100, batch_size=48, validation_data=(X_test, y_test), callbacks=[logger])"
   ]
  },
  {
   "cell_type": "code",
   "execution_count": 28,
   "metadata": {},
   "outputs": [
    {
     "name": "stdout",
     "output_type": "stream",
     "text": [
      "\u001b[1m329/329\u001b[0m \u001b[32m━━━━━━━━━━━━━━━━━━━━\u001b[0m\u001b[37m\u001b[0m \u001b[1m0s\u001b[0m 836us/step - accuracy: 0.9943 - loss: 0.0184\n",
      "compile_metrics: 99.51%\n"
     ]
    }
   ],
   "source": [
    "# check the model performance on test data\n",
    "\n",
    "scores_cnn = model_instance.evaluate(X_test, y_test)\n",
    "print(\"%s: %.2f%%\" % (model_instance.metrics_names[1], scores_cnn[1] * 100))"
   ]
  },
  {
   "cell_type": "code",
   "execution_count": 29,
   "metadata": {},
   "outputs": [
    {
     "data": {
      "text/plain": [
       "<matplotlib.legend.Legend at 0x1f36378a0f0>"
      ]
     },
     "execution_count": 29,
     "metadata": {},
     "output_type": "execute_result"
    },
    {
     "data": {
      "image/png": "[encoded data removed]",
      "text/plain": [
       "<Figure size 1000x500 with 1 Axes>"
      ]
     },
     "metadata": {},
     "output_type": "display_data"
    },
    {
     "data": {
      "image/png": "[encoded data removed]",
      "text/plain": [
       "<Figure size 1000x500 with 1 Axes>"
      ]
     },
     "metadata": {},
     "output_type": "display_data"
    }
   ],
   "source": [
    "# check history of model\n",
    "history = his.history\n",
    "\n",
    "\n",
    "epochs = range(1, len(history['loss']) + 1)\n",
    "acc = history['accuracy']\n",
    "loss = history['loss']\n",
    "val_acc = history['val_accuracy']\n",
    "val_loss = history['val_loss']\n",
    "\n",
    "# visualize training and val accuracy\n",
    "plt.figure(figsize=(10, 5))\n",
    "plt.title('Training and Validation Accuracy (CNN)')\n",
    "plt.xlabel('Epochs')\n",
    "plt.ylabel('Accuracy')\n",
    "plt.plot(epochs, acc, label='accuracy')\n",
    "plt.plot(epochs, val_acc, label='val_acc')\n",
    "plt.legend()\n",
    "\n",
    "# visualize train and val loss\n",
    "plt.figure(figsize=(10, 5))\n",
    "plt.title('Training and Validation Loss(CNN)')\n",
    "plt.xlabel('Epochs')\n",
    "plt.ylabel('Loss')\n",
    "plt.plot(epochs, loss, label='loss', color='g')\n",
    "plt.plot(epochs, val_loss, label='val_loss', color='r')\n",
    "plt.legend()"
   ]
  },
  {
   "cell_type": "code",
   "execution_count": 30,
   "metadata": {},
   "outputs": [
    {
     "name": "stderr",
     "output_type": "stream",
     "text": [
      "WARNING:absl:You are saving your model as an HDF5 file via `model.save()` or `keras.saving.save_model(model)`. This file format is considered legacy. We recommend using instead the native Keras format, e.g. `model.save('my_model.keras')` or `keras.saving.save_model(model, 'my_model.keras')`. \n"
     ]
    },
    {
     "name": "stdout",
     "output_type": "stream",
     "text": [
      "Model saved successfully.\n"
     ]
    }
   ],
   "source": [
    "# Save the model\n",
    "\n",
    "model_instance.save('IDS_model.h5')\n",
    "\n",
    "print(\"Model saved successfully.\")"
   ]
  }
 ],
 "metadata": {
  "kernelspec": {
   "display_name": "Python 3",
   "language": "python",
   "name": "python3"
  },
  "language_info": {
   "codemirror_mode": {
    "name": "ipython",
    "version": 3
   },
   "file_extension": ".py",
   "mimetype": "text/x-python",
   "name": "python",
   "nbconvert_exporter": "python",
   "pygments_lexer": "ipython3",
   "version": "3.12.2"
  }
 },
 "nbformat": 4,
 "nbformat_minor": 2
}
